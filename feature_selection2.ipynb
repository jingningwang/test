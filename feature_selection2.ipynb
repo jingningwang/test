{
 "cells": [
  {
   "cell_type": "code",
   "execution_count": 22,
   "id": "d5a1f598-1b9e-4c9b-856a-9a97eea3f6a4",
   "metadata": {},
   "outputs": [],
   "source": [
    "import pandas as pd\n",
    "import numpy as np\n",
    "from sklearn import linear_model\n",
    "from sklearn.ensemble import GradientBoostingRegressor\n",
    "from sklearn.model_selection import train_test_split\n",
    "import pyarrow.parquet as pq\n",
    "import lightgbm as lgb\n",
    "import xgboost as xgb\n",
    "data1=np.array(pd.read_excel(\"D:/kaggle/DRW/feature_rank_xgboost.xlsx\")['features'].head(200))\n",
    "data2=np.array(pd.read_excel(\"D:/kaggle/DRW/feature_rank_lightgbm.xlsx\")['features'].head(200))\n",
    "s=set(np.concatenate((data1,data2),axis=0))\n",
    "features=np.array(list(s))\n",
    "feature=pd.DataFrame({'features':features})\n",
    "feature.to_excel(\"D:/kaggle/DRW/feature.xlsx\")"
   ]
  }
 ],
 "metadata": {
  "kernelspec": {
   "display_name": "Python [conda env:base] *",
   "language": "python",
   "name": "conda-base-py"
  },
  "language_info": {
   "codemirror_mode": {
    "name": "ipython",
    "version": 3
   },
   "file_extension": ".py",
   "mimetype": "text/x-python",
   "name": "python",
   "nbconvert_exporter": "python",
   "pygments_lexer": "ipython3",
   "version": "3.12.7"
  }
 },
 "nbformat": 4,
 "nbformat_minor": 5
}

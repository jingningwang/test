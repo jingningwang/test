{
 "cells": [
  {
   "cell_type": "code",
   "execution_count": 1,
   "id": "b25609da-84ff-4e9d-9cb6-7bfad5852cc9",
   "metadata": {},
   "outputs": [
    {
     "name": "stdout",
     "output_type": "stream",
     "text": [
      "0.03612583479917426\n",
      "[LightGBM] [Info] Auto-choosing col-wise multi-threading, the overhead of testing was 0.568510 seconds.\n",
      "You can set `force_col_wise=true` to remove the overhead.\n",
      "[LightGBM] [Info] Total Bins 200156\n",
      "[LightGBM] [Info] Number of data points in the train set: 420708, number of used features: 785\n",
      "[LightGBM] [Info] Start training from score 0.037091\n"
     ]
    }
   ],
   "source": [
    "import pandas as pd\n",
    "import numpy as np\n",
    "from sklearn import linear_model\n",
    "from sklearn.ensemble import GradientBoostingRegressor\n",
    "from sklearn.model_selection import train_test_split\n",
    "import pyarrow.parquet as pq\n",
    "import lightgbm as lgb\n",
    "#import xgboost as xgb\n",
    "#import tensorflow as tf\n",
    "parquet_train_clean=pq.ParquetFile(\"D:/kaggle/DRW/train.parquet\")\n",
    "data=parquet_train_clean.read().to_pandas()\n",
    "X=data.loc[:,data.columns!='label']\n",
    "y=data['label']\n",
    "print(np.mean(y))\n",
    "X_train,X_test,y_train,y_test=train_test_split(X,y,test_size=0.2,random_state=116)\n",
    "gbdt=fast_model =lgb.LGBMRegressor(n_estimators=100, random_state=42)\n",
    "gbdt.fit(X_train,y_train)\n",
    "importance=gbdt.booster_.feature_importance(importance_type='gain')\n",
    "features = X.columns\n",
    "frame=pd.DataFrame({'features':features,'importance':importance})\n",
    "frame.sort_values(by='importance', inplace=True,ascending=False)\n",
    "frame.to_excel(\"D:/kaggle/DRW/feature_rank_lightgbm_gain.xlsx\")\n"
   ]
  }
 ],
 "metadata": {
  "kernelspec": {
   "display_name": "Python [conda env:base] *",
   "language": "python",
   "name": "conda-base-py"
  },
  "language_info": {
   "codemirror_mode": {
    "name": "ipython",
    "version": 3
   },
   "file_extension": ".py",
   "mimetype": "text/x-python",
   "name": "python",
   "nbconvert_exporter": "python",
   "pygments_lexer": "ipython3",
   "version": "3.12.7"
  }
 },
 "nbformat": 4,
 "nbformat_minor": 5
}
